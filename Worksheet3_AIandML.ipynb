{
 "cells": [
  {
   "cell_type": "markdown",
   "id": "355437d3-c236-4c4c-bebf-9a45f01a9aa8",
   "metadata": {},
   "source": [
    "# Worksheet 3: Modelling the Neuron\n",
    "# Implementing MCP Neurons and Perceptron Learning Algorithm\n"
   ]
  },
  {
   "cell_type": "markdown",
   "id": "582cdc08-a064-4115-9899-0366e051ebb6",
   "metadata": {},
   "source": [
    "Task - 1: Implementation of MCP Neurons:"
   ]
  },
  {
   "cell_type": "code",
   "execution_count": 1,
   "id": "f97d10fe-9caa-46a5-8489-8cccc9b8babf",
   "metadata": {},
   "outputs": [],
   "source": [
    "## Task 1: MCP Neurons\n",
    "\n",
    "# AND Function Implementation\n",
    "def MCP_Neurons_AND(X1, X2, T):\n",
    "    \"\"\"\n",
    "   \n",
    "This functions implements basic AND operations with MCP Neuron for two inputs.\n",
    "Arguments:\n",
    "Inputs:\n",
    "X1 (1 nd array): An array of binary values.\n",
    "X2 (1 nd array): An array of binary values.\n",
    "Output:\n",
    "state_neuron(1D-list): An state of neuron 1 0r 0 for the particular inputs.\n",
    "\n",
    "Implements the MCP Neuron for OR Boolean Function.\n",
    "    \"\"\"\n",
    "    assert len(X1) == len(X2)\n",
    "    state_neuron = []\n",
    "    for x1, x2 in zip(X1, X2):\n",
    "        state_neuron.append(1 if (x1 + x2) >= T else 0)\n",
    "    return state_neuron"
   ]
  },
  {
   "cell_type": "code",
   "execution_count": 2,
   "id": "59e89750-36cb-4b33-9495-abab0459fde4",
   "metadata": {},
   "outputs": [],
   "source": [
    "# OR Function Implementation\n",
    "def MCP_Neurons_OR(X1, X2, T):\n",
    "    \"\"\"\n",
    "This function implements basic OR operations with MCP Neuron for two inputs.\n",
    "Arguments:\n",
    "Inputs:\n",
    "X1 (1D array): An array of binary values.\n",
    "X2 (1D array): An array of binary values.\n",
    "Output:\n",
    "state_neuron (1D list): The state of the neuron (1 or 0) for the particular inputs.\n",
    "    \n",
    "Implements the MCP Neuron for OR Boolean Function.\n",
    "    \"\"\"\n",
    "    assert len(X1) == len(X2)\n",
    "    state_neuron = []\n",
    "    for x1, x2 in zip(X1, X2):\n",
    "        state_neuron.append(1 if (x1 + x2) >= T else 0)\n",
    "    return state_neuron\n"
   ]
  },
  {
   "cell_type": "code",
   "execution_count": 3,
   "id": "dd0ed52b-c2b0-400b-9705-f8a49de9d325",
   "metadata": {},
   "outputs": [
    {
     "name": "stdout",
     "output_type": "stream",
     "text": [
      "AND Output: [0, 0, 0, 1]\n"
     ]
    }
   ],
   "source": [
    "# Sample Usage for AND Gate\n",
    "X1 = [0, 0, 1, 1]\n",
    "X2 = [0, 1, 0, 1]\n",
    "T_AND = 2\n",
    "print(\"AND Output:\", MCP_Neurons_AND(X1, X2, T_AND))"
   ]
  },
  {
   "cell_type": "code",
   "execution_count": 13,
   "id": "7d7ba0e1-254d-4af9-b87f-5c30a596ca4c",
   "metadata": {},
   "outputs": [
    {
     "name": "stdout",
     "output_type": "stream",
     "text": [
      "OR Output: [0, 1, 1, 1]\n"
     ]
    }
   ],
   "source": [
    "# Sample Usage for OR Gate\n",
    "T_OR = 1\n",
    "print(\"OR Output:\", MCP_Neurons_OR(X1, X2, T_OR))"
   ]
  },
  {
   "cell_type": "markdown",
   "id": "999c7620-1967-4ce6-9302-1f952f172376",
   "metadata": {},
   "source": [
    "Answer the Following Question:\n",
    "\n",
    "Question - 1: List out all the limitations of MCP - Neurons.\n",
    "1. Cannot handle non-linearly separable data (e.g., XOR problem).\n",
    "2. Has a hard threshold function, making learning difficult.\n",
    "3. Cannot adapt or learn from data since weights are fixed.\n",
    "4. Cannot generalize beyond basic logical operations."
   ]
  },
  {
   "cell_type": "code",
   "execution_count": null,
   "id": "8a66ea2f-885f-47eb-bd53-7520a001af15",
   "metadata": {},
   "outputs": [],
   "source": [
    "Task 2: Perceptron Algorithm for 0 vs 1 Classification"
   ]
  },
  {
   "cell_type": "markdown",
   "id": "64d6da69-f6f9-4d19-9579-496ffe2a2329",
   "metadata": {},
   "source": [
    "Step 1: Load the Dataset"
   ]
  },
  {
   "cell_type": "code",
   "execution_count": 11,
   "id": "8f63c7d7-6dcf-4b95-9a6a-ae7e171fc741",
   "metadata": {},
   "outputs": [
    {
     "name": "stdout",
     "output_type": "stream",
     "text": [
      "Feature matrix shape: (12665, 784)\n",
      "Label vector shape: (12665,)\n"
     ]
    }
   ],
   "source": [
    "import pandas as pd\n",
    "import numpy as np\n",
    "import matplotlib.pyplot as plt\n",
    "\n",
    "df_0_1 = pd.read_csv(\"Downloads/mnist_0_and_1.csv\")\n",
    "X = df_0_1.drop(columns=[\"label\"]).values\n",
    "y = df_0_1[\"label\"].values\n",
    "\n",
    "# Check the shape of the features and labels\n",
    "print(\"Feature matrix shape:\", X.shape)\n",
    "print(\"Label vector shape:\", y.shape)"
   ]
  },
  {
   "cell_type": "markdown",
   "id": "5f2f3894-b1c0-4fe6-adac-09e8693baf76",
   "metadata": {},
   "source": [
    "Viewing the Dataset"
   ]
  },
  {
   "cell_type": "code",
   "execution_count": 12,
   "id": "b0ed79c6-adc2-4c43-81cd-6b2de23f74a0",
   "metadata": {},
   "outputs": [
    {
     "data": {
      "image/png": "[encoded data removed]",
      "text/plain": [
       "<Figure size 1000x500 with 10 Axes>"
      ]
     },
     "metadata": {},
     "output_type": "display_data"
    }
   ],
   "source": [
    "# Separate images for label 0 and label 1\n",
    "images_0 = X[y == 0]  # Get all images with label 0\n",
    "images_1 = X[y == 1]  # Get all images with label 1\n",
    "\n",
    "fig, axes = plt.subplots(2, 5, figsize=(10, 5))\n",
    "\n",
    "# Check if the arrays have the required amount of data\n",
    "if len(images_0) < 5 or len(images_1) < 5:\n",
    "    print(\"Error: Not enough images in images_0 or images_1 to plot 5 images.\")\n",
    "else:\n",
    "    for i in range(5):\n",
    "        # Plot digit 0\n",
    "        axes[0, i].imshow(images_0[i].reshape(28, 28), cmap=\"gray\")\n",
    "        axes[0, i].set_title(\"Label: 0\")\n",
    "        axes[0, i].axis(\"off\")\n",
    "        # Plot digit 1\n",
    "        axes[1, i].imshow(images_1[i].reshape(28, 28), cmap=\"gray\")\n",
    "        axes[1, i].set_title(\"Label: 1\")\n",
    "        axes[1, i].axis(\"off\")\n",
    "    plt.suptitle(\"First 5 Images of 0 and 1 from MNIST Subset\")\n",
    "    plt.show()"
   ]
  },
  {
   "cell_type": "markdown",
   "id": "5dc04af6-2efb-446e-b853-d94a36104478",
   "metadata": {},
   "source": [
    "Step - 2 - Initializing the Weights:"
   ]
  },
  {
   "cell_type": "code",
   "execution_count": 14,
   "id": "c10dd11d-8617-4adb-abee-db0bc711f7a5",
   "metadata": {},
   "outputs": [],
   "source": [
    "# Initialize weights and bias\n",
    "weights = np.zeros(X.shape[1])  # 784 weights (one for each pixel)\n",
    "bias = 0\n",
    "learning_rate = 0.1\n",
    "epochs = 100"
   ]
  },
  {
   "cell_type": "markdown",
   "id": "a5aa62cf-7ee8-4e55-9cd5-b04cc58f6392",
   "metadata": {},
   "source": [
    "Step - 3 - Make a Decision function:"
   ]
  },
  {
   "cell_type": "code",
   "execution_count": 15,
   "id": "3071919a-6287-404b-b66d-aeef6d33063e",
   "metadata": {},
   "outputs": [],
   "source": [
    "import numpy as np\n",
    "\n",
    "def decision_function(X, weights, bias):\n",
    "    \"\"\"\n",
    "    Compute the predicted labels for the input data.\n",
    "\n",
    "    Parameters:\n",
    "    - X: Features (input data) as a numpy array of shape (n_samples, n_features)\n",
    "    - weights: Updated weights after training\n",
    "    - bias: Updated bias after training\n",
    "\n",
    "    Returns:\n",
    "    - y_pred_all: The predicted labels for the input data\n",
    "    \"\"\"\n",
    "    predictions = np.dot(X, weights) + bias  # Compute weighted sum\n",
    "    y_pred_all = np.where(predictions >= 0, 1, 0)  # Apply step function\n",
    "\n",
    "    return y_pred_all\n"
   ]
  },
  {
   "cell_type": "markdown",
   "id": "9380fc19-6061-4a37-9184-28e3b608ac4b",
   "metadata": {},
   "source": [
    "Step - 3 - Implement the Perceptron Learning Algorithm"
   ]
  },
  {
   "cell_type": "code",
   "execution_count": 16,
   "id": "e3320edd-8695-4a5a-a6a2-3c98e5e4f472",
   "metadata": {},
   "outputs": [],
   "source": [
    "import numpy as np\n",
    "\n",
    "def train_perceptron(X, y, weights, bias, learning_rate=0.1, epochs=100):\n",
    "    \"\"\"\n",
    "    Train the perceptron using the Perceptron Learning Algorithm.\n",
    "\n",
    "    Parameters:\n",
    "    - X: Features (input data) as a numpy array of shape (n_samples, n_features)\n",
    "    - y: Labels (true output) as a numpy array of shape (n_samples,)\n",
    "    - weights: Initial weights as a numpy array of shape (n_features,)\n",
    "    - bias: Initial bias value (scalar)\n",
    "    - learning_rate: Learning rate for weight updates (default is 0.1)\n",
    "    - epochs: Number of iterations to train the model (default is 100)\n",
    "\n",
    "    Returns:\n",
    "    - weights: Updated weights after training\n",
    "    - bias: Updated bias after training\n",
    "    - accuracy: Final accuracy of the perceptron.\n",
    "    \"\"\"\n",
    "    for epoch in range(epochs):  # Iterate over epochs\n",
    "        correct_predictions = 0  # Track correct classifications\n",
    "\n",
    "        for i in range(len(X)):  # Iterate through each sample\n",
    "            prediction = np.dot(X[i], weights) + bias  # Compute weighted sum\n",
    "            y_pred = 1 if prediction >= 0 else 0  # Apply step function\n",
    "\n",
    "            if y_pred == y[i]:  \n",
    "                correct_predictions += 1  # Count correct predictions\n",
    "            else:\n",
    "                # Update weights and bias if the prediction is wrong\n",
    "                weights += learning_rate * (y[i] - y_pred) * X[i]\n",
    "                bias += learning_rate * (y[i] - y_pred)\n",
    "\n",
    "        # Calculate accuracy after each epoch\n",
    "        accuracy = correct_predictions / len(y)  \n",
    "\n",
    "        # Early stopping if perceptron converges (all correct predictions)\n",
    "        if accuracy == 1.0:\n",
    "            break\n",
    "\n",
    "    return weights, bias, accuracy\n"
   ]
  },
  {
   "cell_type": "markdown",
   "id": "8a7e50f7-8e31-44b9-8eac-4345ee0e70eb",
   "metadata": {},
   "source": [
    "Training the Perceptron"
   ]
  },
  {
   "cell_type": "code",
   "execution_count": 17,
   "id": "3cbb8c12-3598-425b-af7c-706bae251fbb",
   "metadata": {},
   "outputs": [
    {
     "name": "stdout",
     "output_type": "stream",
     "text": [
      "The Final Accuracy is:  1.0\n"
     ]
    }
   ],
   "source": [
    "# After training the model with the perceptron_learning_algorithm\n",
    "weights, bias, accuracy = train_perceptron(X, y, weights, bias)\n",
    "\n",
    "# Evaluate the model using the new function\n",
    "print(\"The Final Accuracy is: \", accuracy)"
   ]
  },
  {
   "cell_type": "markdown",
   "id": "1a0ebd63-ed95-433b-87ca-e9e125f872c9",
   "metadata": {},
   "source": [
    "Step 5: Visualize Misclassified Images"
   ]
  },
  {
   "cell_type": "code",
   "execution_count": 18,
   "id": "476130ea-e2dc-4727-981e-293fc1f8241a",
   "metadata": {},
   "outputs": [
    {
     "name": "stdout",
     "output_type": "stream",
     "text": [
      "Final Accuracy: 1.0000\n",
      "All images were correctly classified!\n"
     ]
    }
   ],
   "source": [
    "# Get predictions for all data points\n",
    "predictions = np.dot(X, weights) + bias\n",
    "y_pred = np.where(predictions >= 0, 1, 0)\n",
    "\n",
    "# Calculate final accuracy\n",
    "final_accuracy = np.mean(y_pred == y)\n",
    "print(f\"Final Accuracy: {final_accuracy:.4f}\")\n",
    "\n",
    "# Step 5: Visualize Misclassified Images\n",
    "misclassified_idx = np.where(y_pred != y)[0]\n",
    "if len(misclassified_idx) > 0:\n",
    "    fig, axes = plt.subplots(2, 5, figsize=(10, 5))\n",
    "    for ax, idx in zip(axes.flat, misclassified_idx[:10]):  # Show 10 misclassified images\n",
    "        ax.imshow(X[idx].reshape(28, 28), cmap=\"gray\")\n",
    "        ax.set_title(f\"Pred: {y_pred[idx]}, True: {y[idx]}\")\n",
    "        ax.axis(\"off\")\n",
    "    plt.suptitle(\"Misclassified Images\")\n",
    "    plt.show()\n",
    "else:\n",
    "    print(\"All images were correctly classified!\")"
   ]
  },
  {
   "cell_type": "markdown",
   "id": "1f2fc96e-aefb-4453-9ccb-b870f002f4d7",
   "metadata": {},
   "source": [
    "# Task 3: Perceptron Algorithm for 3 vs 5 Classification"
   ]
  },
  {
   "cell_type": "markdown",
   "id": "2d29a50b-64dd-4efe-a5cd-7c6789251d17",
   "metadata": {},
   "source": [
    "1. Load the Dataset"
   ]
  },
  {
   "cell_type": "code",
   "execution_count": 20,
   "id": "179e2417-b579-4ba2-a11f-6dd15e49d425",
   "metadata": {},
   "outputs": [
    {
     "name": "stdout",
     "output_type": "stream",
     "text": [
      "Dataset Shape: (2741, 784)\n",
      "Feature matrix shape: (2741, 784)\n",
      "Label vector shape: (2741,)\n"
     ]
    }
   ],
   "source": [
    "import pandas as pd\n",
    "import numpy as np\n",
    "import matplotlib.pyplot as plt\n",
    "\n",
    "# Load the MNIST dataset for digits 3 and 5\n",
    "df_3_5 = pd.read_csv(\"Downloads/mnist_3_and_5.csv\")\n",
    "\n",
    "# Extract features and labels\n",
    "X = df_3_5.drop(columns=[\"label\"]).values  # 784 pixel values\n",
    "y = df_3_5[\"label\"].values  # Labels (3 or 5)\n",
    "\n",
    "# Convert labels to binary (Perceptron requires 0/1)\n",
    "y = np.where(y == 3, 0, 1)\n",
    "\n",
    "print(\"Dataset Shape:\", X.shape)\n",
    "print(\"Feature matrix shape:\", X.shape)\n",
    "print(\"Label vector shape:\", y.shape)\n"
   ]
  },
  {
   "cell_type": "markdown",
   "id": "a3d194a6-f74e-4d6b-86c4-5878e9486405",
   "metadata": {},
   "source": [
    "2. Visualize Some Digits"
   ]
  },
  {
   "cell_type": "code",
   "execution_count": 21,
   "id": "7fe58d41-9c8f-4388-95a3-2ec3aed4f18a",
   "metadata": {},
   "outputs": [
    {
     "data": {
      "image/png": "[encoded data removed]",
      "text/plain": [
       "<Figure size 1000x500 with 10 Axes>"
      ]
     },
     "metadata": {},
     "output_type": "display_data"
    }
   ],
   "source": [
    "# Separate images for label 3 and label 5\n",
    "images_3 = X[y == 0]  # Get all images labeled as 3\n",
    "images_5 = X[y == 1]  # Get all images labeled as 5\n",
    "\n",
    "# Plot first 5 images from each class\n",
    "fig, axes = plt.subplots(2, 5, figsize=(10, 5))\n",
    "\n",
    "for i in range(5):\n",
    "    axes[0, i].imshow(images_3[i].reshape(28, 28), cmap=\"gray\")\n",
    "    axes[0, i].set_title(\"Label: 3\")\n",
    "    axes[0, i].axis(\"off\")\n",
    "\n",
    "    axes[1, i].imshow(images_5[i].reshape(28, 28), cmap=\"gray\")\n",
    "    axes[1, i].set_title(\"Label: 5\")\n",
    "    axes[1, i].axis(\"off\")\n",
    "\n",
    "plt.suptitle(\"First 5 Images of 3 and 5 from MNIST Subset\")\n",
    "plt.show()\n"
   ]
  },
  {
   "cell_type": "markdown",
   "id": "acfbd2b5-0c50-42e7-8837-6e27bb6486df",
   "metadata": {},
   "source": [
    "3. Initialize Weights and Bias"
   ]
  },
  {
   "cell_type": "code",
   "execution_count": 22,
   "id": "f916de92-c913-4354-a36e-ccc5c8f9d889",
   "metadata": {},
   "outputs": [],
   "source": [
    "weights = np.zeros(X.shape[1])  # Initialize weights (one per pixel)\n",
    "bias = 0\n",
    "learning_rate = 0.1\n",
    "epochs = 100\n"
   ]
  },
  {
   "cell_type": "code",
   "execution_count": null,
   "id": "8c9d5bb8-b8f8-486d-b97a-81079332e83c",
   "metadata": {},
   "outputs": [],
   "source": []
  }
 ],
 "metadata": {
  "kernelspec": {
   "display_name": "Python 3 (ipykernel)",
   "language": "python",
   "name": "python3"
  },
  "language_info": {
   "codemirror_mode": {
    "name": "ipython",
    "version": 3
   },
   "file_extension": ".py",
   "mimetype": "text/x-python",
   "name": "python",
   "nbconvert_exporter": "python",
   "pygments_lexer": "ipython3",
   "version": "3.9.19"
  }
 },
 "nbformat": 4,
 "nbformat_minor": 5
}
