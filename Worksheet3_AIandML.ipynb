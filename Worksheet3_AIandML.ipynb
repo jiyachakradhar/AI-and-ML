{
  "cells": [
    {
      "cell_type": "markdown",
      "id": "7ff7dcd4-146b-477e-ae50-c2734ea4de5d",
      "metadata": {
        "id": "7ff7dcd4-146b-477e-ae50-c2734ea4de5d"
      },
      "source": [
        "Name: Ashmita Basnet ; Student Number: 2331185\n",
        "\n"
      ]
    },
    {
      "cell_type": "markdown",
      "id": "355437d3-c236-4c4c-bebf-9a45f01a9aa8",
      "metadata": {
        "id": "355437d3-c236-4c4c-bebf-9a45f01a9aa8"
      },
      "source": [
        "# Worksheet 3: Modelling the Neuron\n",
        "# Implementing MCP Neurons and Perceptron Learning Algorithm\n"
      ]
    },
    {
      "cell_type": "markdown",
      "id": "582cdc08-a064-4115-9899-0366e051ebb6",
      "metadata": {
        "id": "582cdc08-a064-4115-9899-0366e051ebb6"
      },
      "source": [
        "Task - 1: Implementation of MCP Neurons:"
      ]
    },
    {
      "cell_type": "code",
      "source": [
        "from google.colab import drive\n",
        "drive.mount('/content/drive')"
      ],
      "metadata": {
        "colab": {
          "base_uri": "https://localhost:8080/"
        },
        "id": "NLjQNCym96-f",
        "outputId": "3be07c0a-c558-4243-cb38-ecee43497228"
      },
      "id": "NLjQNCym96-f",
      "execution_count": 5,
      "outputs": [
        {
          "output_type": "stream",
          "name": "stdout",
          "text": [
            "Mounted at /content/drive\n"
          ]
        }
      ]
    },
    {
      "cell_type": "code",
      "execution_count": 6,
      "id": "f97d10fe-9caa-46a5-8489-8cccc9b8babf",
      "metadata": {
        "id": "f97d10fe-9caa-46a5-8489-8cccc9b8babf"
      },
      "outputs": [],
      "source": [
        "## Task 1: MCP Neurons\n",
        "\n",
        "# AND Function Implementation\n",
        "def MCP_Neurons_AND(X1, X2, T):\n",
        "    \"\"\"\n",
        "\n",
        "This functions implements basic AND operations with MCP Neuron for two inputs.\n",
        "Arguments:\n",
        "Inputs:\n",
        "X1 (1 nd array): An array of binary values.\n",
        "X2 (1 nd array): An array of binary values.\n",
        "Output:\n",
        "state_neuron(1D-list): An state of neuron 1 0r 0 for the particular inputs.\n",
        "\n",
        "Implements the MCP Neuron for OR Boolean Function.\n",
        "    \"\"\"\n",
        "    assert len(X1) == len(X2)\n",
        "    state_neuron = []\n",
        "    for x1, x2 in zip(X1, X2):\n",
        "        state_neuron.append(1 if (x1 + x2) >= T else 0)\n",
        "    return state_neuron"
      ]
    },
    {
      "cell_type": "code",
      "execution_count": 7,
      "id": "59e89750-36cb-4b33-9495-abab0459fde4",
      "metadata": {
        "id": "59e89750-36cb-4b33-9495-abab0459fde4"
      },
      "outputs": [],
      "source": [
        "# OR Function Implementation\n",
        "def MCP_Neurons_OR(X1, X2, T):\n",
        "    \"\"\"\n",
        "This function implements basic OR operations with MCP Neuron for two inputs.\n",
        "Arguments:\n",
        "Inputs:\n",
        "X1 (1D array): An array of binary values.\n",
        "X2 (1D array): An array of binary values.\n",
        "Output:\n",
        "state_neuron (1D list): The state of the neuron (1 or 0) for the particular inputs.\n",
        "\n",
        "Implements the MCP Neuron for OR Boolean Function.\n",
        "    \"\"\"\n",
        "    assert len(X1) == len(X2)\n",
        "    state_neuron = []\n",
        "    for x1, x2 in zip(X1, X2):\n",
        "        state_neuron.append(1 if (x1 + x2) >= T else 0)\n",
        "    return state_neuron\n"
      ]
    },
    {
      "cell_type": "code",
      "execution_count": 8,
      "id": "dd0ed52b-c2b0-400b-9705-f8a49de9d325",
      "metadata": {
        "colab": {
          "base_uri": "https://localhost:8080/"
        },
        "id": "dd0ed52b-c2b0-400b-9705-f8a49de9d325",
        "outputId": "2595901b-444e-4963-832c-e4f0841eaee5"
      },
      "outputs": [
        {
          "output_type": "stream",
          "name": "stdout",
          "text": [
            "AND Output: [0, 0, 0, 1]\n"
          ]
        }
      ],
      "source": [
        "# Sample Usage for AND Gate\n",
        "X1 = [0, 0, 1, 1]\n",
        "X2 = [0, 1, 0, 1]\n",
        "T_AND = 2\n",
        "print(\"AND Output:\", MCP_Neurons_AND(X1, X2, T_AND))"
      ]
    },
    {
      "cell_type": "code",
      "execution_count": 4,
      "id": "7d7ba0e1-254d-4af9-b87f-5c30a596ca4c",
      "metadata": {
        "colab": {
          "base_uri": "https://localhost:8080/"
        },
        "id": "7d7ba0e1-254d-4af9-b87f-5c30a596ca4c",
        "outputId": "4cab79d1-f5ac-428c-decc-28d4bbab4e13"
      },
      "outputs": [
        {
          "output_type": "stream",
          "name": "stdout",
          "text": [
            "OR Output: [0, 1, 1, 1]\n"
          ]
        }
      ],
      "source": [
        "# Sample Usage for OR Gate\n",
        "T_OR = 1\n",
        "print(\"OR Output:\", MCP_Neurons_OR(X1, X2, T_OR))"
      ]
    },
    {
      "cell_type": "markdown",
      "id": "999c7620-1967-4ce6-9302-1f952f172376",
      "metadata": {
        "id": "999c7620-1967-4ce6-9302-1f952f172376"
      },
      "source": [
        "Answer the Following Question:\n",
        "\n",
        "Question - 1: List out all the limitations of MCP - Neurons.\n",
        "1. Cannot handle non-linearly separable data (e.g., XOR problem).\n",
        "2. Has a hard threshold function, making learning difficult.\n",
        "3. Cannot adapt or learn from data since weights are fixed.\n",
        "4. Cannot generalize beyond basic logical operations."
      ]
    },
    {
      "cell_type": "code",
      "execution_count": null,
      "id": "8a66ea2f-885f-47eb-bd53-7520a001af15",
      "metadata": {
        "id": "8a66ea2f-885f-47eb-bd53-7520a001af15"
      },
      "outputs": [],
      "source": [
        "Task 2: Perceptron Algorithm for 0 vs 1 Classification"
      ]
    },
    {
      "cell_type": "markdown",
      "id": "64d6da69-f6f9-4d19-9579-496ffe2a2329",
      "metadata": {
        "id": "64d6da69-f6f9-4d19-9579-496ffe2a2329"
      },
      "source": [
        "Step 1: Load the Dataset"
      ]
    },
    {
      "cell_type": "code",
      "execution_count": 9,
      "id": "8f63c7d7-6dcf-4b95-9a6a-ae7e171fc741",
      "metadata": {
        "colab": {
          "base_uri": "https://localhost:8080/"
        },
        "id": "8f63c7d7-6dcf-4b95-9a6a-ae7e171fc741",
        "outputId": "4137dd20-ab36-4c45-c79f-6c7698218b2b"
      },
      "outputs": [
        {
          "output_type": "stream",
          "name": "stdout",
          "text": [
            "Feature matrix shape: (12665, 784)\n",
            "Label vector shape: (12665,)\n"
          ]
        }
      ],
      "source": [
        "import pandas as pd\n",
        "import numpy as np\n",
        "import matplotlib.pyplot as plt\n",
        "\n",
        "df_0_1 = pd.read_csv(\"/content/drive/MyDrive/AI task/Copy of mnist_0_and_1.csv\")\n",
        "X = df_0_1.drop(columns=[\"label\"]).values\n",
        "y = df_0_1[\"label\"].values\n",
        "\n",
        "# Check the shape of the features and labels\n",
        "print(\"Feature matrix shape:\", X.shape)\n",
        "print(\"Label vector shape:\", y.shape)"
      ]
    },
    {
      "cell_type": "code",
      "source": [
        "from google.colab import drive\n",
        "drive.mount('/content/drive')"
      ],
      "metadata": {
        "id": "Q_f4bxaK9MvP"
      },
      "id": "Q_f4bxaK9MvP",
      "execution_count": null,
      "outputs": []
    },
    {
      "cell_type": "markdown",
      "id": "5f2f3894-b1c0-4fe6-adac-09e8693baf76",
      "metadata": {
        "id": "5f2f3894-b1c0-4fe6-adac-09e8693baf76"
      },
      "source": [
        "Viewing the Dataset"
      ]
    },
    {
      "cell_type": "code",
      "execution_count": 10,
      "id": "b0ed79c6-adc2-4c43-81cd-6b2de23f74a0",
      "metadata": {
        "colab": {
          "base_uri": "https://localhost:8080/",
          "height": 382
        },
        "id": "b0ed79c6-adc2-4c43-81cd-6b2de23f74a0",
        "outputId": "0fc50520-960e-43d9-9e2f-1d2d09ac58cb"
      },
      "outputs": [
        {
          "output_type": "display_data",
          "data": {
            "text/plain": [
              "<Figure size 1000x500 with 10 Axes>"
            ],
            "image/png": "[encoded data removed]"
          },
          "metadata": {}
        }
      ],
      "source": [
        "# Separate images for label 0 and label 1\n",
        "images_0 = X[y == 0]  # Get all images with label 0\n",
        "images_1 = X[y == 1]  # Get all images with label 1\n",
        "\n",
        "fig, axes = plt.subplots(2, 5, figsize=(10, 5))\n",
        "\n",
        "# Check if the arrays have the required amount of data\n",
        "if len(images_0) < 5 or len(images_1) < 5:\n",
        "    print(\"Error: Not enough images in images_0 or images_1 to plot 5 images.\")\n",
        "else:\n",
        "    for i in range(5):\n",
        "        # Plot digit 0\n",
        "        axes[0, i].imshow(images_0[i].reshape(28, 28), cmap=\"gray\")\n",
        "        axes[0, i].set_title(\"Label: 0\")\n",
        "        axes[0, i].axis(\"off\")\n",
        "        # Plot digit 1\n",
        "        axes[1, i].imshow(images_1[i].reshape(28, 28), cmap=\"gray\")\n",
        "        axes[1, i].set_title(\"Label: 1\")\n",
        "        axes[1, i].axis(\"off\")\n",
        "    plt.suptitle(\"First 5 Images of 0 and 1 from MNIST Subset\")\n",
        "    plt.show()"
      ]
    },
    {
      "cell_type": "markdown",
      "id": "5dc04af6-2efb-446e-b853-d94a36104478",
      "metadata": {
        "id": "5dc04af6-2efb-446e-b853-d94a36104478"
      },
      "source": [
        "Step - 2 - Initializing the Weights:"
      ]
    },
    {
      "cell_type": "code",
      "execution_count": 11,
      "id": "c10dd11d-8617-4adb-abee-db0bc711f7a5",
      "metadata": {
        "id": "c10dd11d-8617-4adb-abee-db0bc711f7a5"
      },
      "outputs": [],
      "source": [
        "# Initialize weights and bias\n",
        "weights = np.zeros(X.shape[1])  # 784 weights (one for each pixel)\n",
        "bias = 0\n",
        "learning_rate = 0.1\n",
        "epochs = 100"
      ]
    },
    {
      "cell_type": "markdown",
      "id": "a5aa62cf-7ee8-4e55-9cd5-b04cc58f6392",
      "metadata": {
        "id": "a5aa62cf-7ee8-4e55-9cd5-b04cc58f6392"
      },
      "source": [
        "Step - 3 - Make a Decision function:"
      ]
    },
    {
      "cell_type": "code",
      "execution_count": 12,
      "id": "3071919a-6287-404b-b66d-aeef6d33063e",
      "metadata": {
        "id": "3071919a-6287-404b-b66d-aeef6d33063e"
      },
      "outputs": [],
      "source": [
        "import numpy as np\n",
        "\n",
        "def decision_function(X, weights, bias):\n",
        "    \"\"\"\n",
        "    Compute the predicted labels for the input data.\n",
        "\n",
        "    Parameters:\n",
        "    - X: Features (input data) as a numpy array of shape (n_samples, n_features)\n",
        "    - weights: Updated weights after training\n",
        "    - bias: Updated bias after training\n",
        "\n",
        "    Returns:\n",
        "    - y_pred_all: The predicted labels for the input data\n",
        "    \"\"\"\n",
        "    predictions = np.dot(X, weights) + bias  # Compute weighted sum\n",
        "    y_pred_all = np.where(predictions >= 0, 1, 0)  # Apply step function\n",
        "\n",
        "    return y_pred_all\n"
      ]
    },
    {
      "cell_type": "markdown",
      "id": "9380fc19-6061-4a37-9184-28e3b608ac4b",
      "metadata": {
        "id": "9380fc19-6061-4a37-9184-28e3b608ac4b"
      },
      "source": [
        "Step - 3 - Implement the Perceptron Learning Algorithm"
      ]
    },
    {
      "cell_type": "code",
      "execution_count": 13,
      "id": "e3320edd-8695-4a5a-a6a2-3c98e5e4f472",
      "metadata": {
        "id": "e3320edd-8695-4a5a-a6a2-3c98e5e4f472"
      },
      "outputs": [],
      "source": [
        "import numpy as np\n",
        "\n",
        "def train_perceptron(X, y, weights, bias, learning_rate=0.1, epochs=100):\n",
        "    \"\"\"\n",
        "    Train the perceptron using the Perceptron Learning Algorithm.\n",
        "\n",
        "    Parameters:\n",
        "    - X: Features (input data) as a numpy array of shape (n_samples, n_features)\n",
        "    - y: Labels (true output) as a numpy array of shape (n_samples,)\n",
        "    - weights: Initial weights as a numpy array of shape (n_features,)\n",
        "    - bias: Initial bias value (scalar)\n",
        "    - learning_rate: Learning rate for weight updates (default is 0.1)\n",
        "    - epochs: Number of iterations to train the model (default is 100)\n",
        "\n",
        "    Returns:\n",
        "    - weights: Updated weights after training\n",
        "    - bias: Updated bias after training\n",
        "    - accuracy: Final accuracy of the perceptron.\n",
        "    \"\"\"\n",
        "    for epoch in range(epochs):  # Iterate over epochs\n",
        "        correct_predictions = 0  # Track correct classifications\n",
        "\n",
        "        for i in range(len(X)):  # Iterate through each sample\n",
        "            prediction = np.dot(X[i], weights) + bias  # Compute weighted sum\n",
        "            y_pred = 1 if prediction >= 0 else 0  # Apply step function\n",
        "\n",
        "            if y_pred == y[i]:\n",
        "                correct_predictions += 1  # Count correct predictions\n",
        "            else:\n",
        "                # Update weights and bias if the prediction is wrong\n",
        "                weights += learning_rate * (y[i] - y_pred) * X[i]\n",
        "                bias += learning_rate * (y[i] - y_pred)\n",
        "\n",
        "        # Calculate accuracy after each epoch\n",
        "        accuracy = correct_predictions / len(y)\n",
        "\n",
        "        # Early stopping if perceptron converges (all correct predictions)\n",
        "        if accuracy == 1.0:\n",
        "            break\n",
        "\n",
        "    return weights, bias, accuracy\n"
      ]
    },
    {
      "cell_type": "markdown",
      "id": "8a7e50f7-8e31-44b9-8eac-4345ee0e70eb",
      "metadata": {
        "id": "8a7e50f7-8e31-44b9-8eac-4345ee0e70eb"
      },
      "source": [
        "Training the Perceptron"
      ]
    },
    {
      "cell_type": "code",
      "execution_count": 14,
      "id": "3cbb8c12-3598-425b-af7c-706bae251fbb",
      "metadata": {
        "colab": {
          "base_uri": "https://localhost:8080/"
        },
        "id": "3cbb8c12-3598-425b-af7c-706bae251fbb",
        "outputId": "55e5e690-7c7a-40f7-f351-4aef61495720"
      },
      "outputs": [
        {
          "output_type": "stream",
          "name": "stdout",
          "text": [
            "The Final Accuracy is:  1.0\n"
          ]
        }
      ],
      "source": [
        "# After training the model with the perceptron_learning_algorithm\n",
        "weights, bias, accuracy = train_perceptron(X, y, weights, bias)\n",
        "\n",
        "# Evaluate the model using the new function\n",
        "print(\"The Final Accuracy is: \", accuracy)"
      ]
    },
    {
      "cell_type": "markdown",
      "id": "1a0ebd63-ed95-433b-87ca-e9e125f872c9",
      "metadata": {
        "id": "1a0ebd63-ed95-433b-87ca-e9e125f872c9"
      },
      "source": [
        "Step 5: Visualize Misclassified Images"
      ]
    },
    {
      "cell_type": "code",
      "execution_count": 15,
      "id": "476130ea-e2dc-4727-981e-293fc1f8241a",
      "metadata": {
        "colab": {
          "base_uri": "https://localhost:8080/"
        },
        "id": "476130ea-e2dc-4727-981e-293fc1f8241a",
        "outputId": "922bc729-c7a9-4177-931d-b997cec70475"
      },
      "outputs": [
        {
          "output_type": "stream",
          "name": "stdout",
          "text": [
            "Final Accuracy: 1.0000\n",
            "All images were correctly classified!\n"
          ]
        }
      ],
      "source": [
        "# Get predictions for all data points\n",
        "predictions = np.dot(X, weights) + bias\n",
        "y_pred = np.where(predictions >= 0, 1, 0)\n",
        "\n",
        "# Calculate final accuracy\n",
        "final_accuracy = np.mean(y_pred == y)\n",
        "print(f\"Final Accuracy: {final_accuracy:.4f}\")\n",
        "\n",
        "# Step 5: Visualize Misclassified Images\n",
        "misclassified_idx = np.where(y_pred != y)[0]\n",
        "if len(misclassified_idx) > 0:\n",
        "    fig, axes = plt.subplots(2, 5, figsize=(10, 5))\n",
        "    for ax, idx in zip(axes.flat, misclassified_idx[:10]):  # Show 10 misclassified images\n",
        "        ax.imshow(X[idx].reshape(28, 28), cmap=\"gray\")\n",
        "        ax.set_title(f\"Pred: {y_pred[idx]}, True: {y[idx]}\")\n",
        "        ax.axis(\"off\")\n",
        "    plt.suptitle(\"Misclassified Images\")\n",
        "    plt.show()\n",
        "else:\n",
        "    print(\"All images were correctly classified!\")"
      ]
    },
    {
      "cell_type": "markdown",
      "id": "1f2fc96e-aefb-4453-9ccb-b870f002f4d7",
      "metadata": {
        "id": "1f2fc96e-aefb-4453-9ccb-b870f002f4d7"
      },
      "source": [
        "# Task 3: Perceptron Algorithm for 3 vs 5 Classification"
      ]
    },
    {
      "cell_type": "markdown",
      "id": "2d29a50b-64dd-4efe-a5cd-7c6789251d17",
      "metadata": {
        "id": "2d29a50b-64dd-4efe-a5cd-7c6789251d17"
      },
      "source": [
        "1. Load the Dataset"
      ]
    },
    {
      "cell_type": "code",
      "execution_count": 17,
      "id": "179e2417-b579-4ba2-a11f-6dd15e49d425",
      "metadata": {
        "colab": {
          "base_uri": "https://localhost:8080/"
        },
        "id": "179e2417-b579-4ba2-a11f-6dd15e49d425",
        "outputId": "cbdd5718-8231-4641-f520-a9b6644be4f1"
      },
      "outputs": [
        {
          "output_type": "stream",
          "name": "stdout",
          "text": [
            "Dataset Shape: (2741, 784)\n",
            "Feature matrix shape: (2741, 784)\n",
            "Label vector shape: (2741,)\n"
          ]
        }
      ],
      "source": [
        "import pandas as pd\n",
        "import numpy as np\n",
        "import matplotlib.pyplot as plt\n",
        "\n",
        "# Load the MNIST dataset for digits 3 and 5\n",
        "df_3_5 = pd.read_csv(\"/content/drive/MyDrive/AI task/Copy of mnist_3_and_5.csv\")\n",
        "\n",
        "# Extract features and labels\n",
        "X = df_3_5.drop(columns=[\"label\"]).values  # 784 pixel values\n",
        "y = df_3_5[\"label\"].values  # Labels (3 or 5)\n",
        "\n",
        "# Convert labels to binary (Perceptron requires 0/1)\n",
        "y = np.where(y == 3, 0, 1)\n",
        "\n",
        "print(\"Dataset Shape:\", X.shape)\n",
        "print(\"Feature matrix shape:\", X.shape)\n",
        "print(\"Label vector shape:\", y.shape)\n"
      ]
    },
    {
      "cell_type": "markdown",
      "id": "a3d194a6-f74e-4d6b-86c4-5878e9486405",
      "metadata": {
        "id": "a3d194a6-f74e-4d6b-86c4-5878e9486405"
      },
      "source": [
        "2. Visualize Some Digits"
      ]
    },
    {
      "cell_type": "code",
      "execution_count": 18,
      "id": "7fe58d41-9c8f-4388-95a3-2ec3aed4f18a",
      "metadata": {
        "colab": {
          "base_uri": "https://localhost:8080/",
          "height": 382
        },
        "id": "7fe58d41-9c8f-4388-95a3-2ec3aed4f18a",
        "outputId": "4731b973-c2b7-44d7-e42f-e7cb3acb6847"
      },
      "outputs": [
        {
          "output_type": "display_data",
          "data": {
            "text/plain": [
              "<Figure size 1000x500 with 10 Axes>"
            ],
            "image/png": "[encoded data removed]"
          },
          "metadata": {}
        }
      ],
      "source": [
        "# Separate images for label 3 and label 5\n",
        "images_3 = X[y == 0]  # Get all images labeled as 3\n",
        "images_5 = X[y == 1]  # Get all images labeled as 5\n",
        "\n",
        "# Plot first 5 images from each class\n",
        "fig, axes = plt.subplots(2, 5, figsize=(10, 5))\n",
        "\n",
        "for i in range(5):\n",
        "    axes[0, i].imshow(images_3[i].reshape(28, 28), cmap=\"gray\")\n",
        "    axes[0, i].set_title(\"Label: 3\")\n",
        "    axes[0, i].axis(\"off\")\n",
        "\n",
        "    axes[1, i].imshow(images_5[i].reshape(28, 28), cmap=\"gray\")\n",
        "    axes[1, i].set_title(\"Label: 5\")\n",
        "    axes[1, i].axis(\"off\")\n",
        "\n",
        "plt.suptitle(\"First 5 Images of 3 and 5 from MNIST Subset\")\n",
        "plt.show()\n"
      ]
    },
    {
      "cell_type": "markdown",
      "id": "acfbd2b5-0c50-42e7-8837-6e27bb6486df",
      "metadata": {
        "id": "acfbd2b5-0c50-42e7-8837-6e27bb6486df"
      },
      "source": [
        "3. Initialize Weights and Bias"
      ]
    },
    {
      "cell_type": "code",
      "execution_count": 19,
      "id": "f916de92-c913-4354-a36e-ccc5c8f9d889",
      "metadata": {
        "id": "f916de92-c913-4354-a36e-ccc5c8f9d889"
      },
      "outputs": [],
      "source": [
        "weights = np.zeros(X.shape[1])  # Initialize weights (one per pixel)\n",
        "bias = 0\n",
        "learning_rate = 0.1\n",
        "epochs = 100\n"
      ]
    },
    {
      "cell_type": "markdown",
      "source": [
        ": **Implement the Decision**"
      ],
      "metadata": {
        "id": "C0sZmCJQBUMP"
      },
      "id": "C0sZmCJQBUMP"
    },
    {
      "cell_type": "code",
      "execution_count": 20,
      "id": "8c9d5bb8-b8f8-486d-b97a-81079332e83c",
      "metadata": {
        "id": "8c9d5bb8-b8f8-486d-b97a-81079332e83c"
      },
      "outputs": [],
      "source": [
        "import numpy as np\n",
        "\n",
        "def decision_function(X, weights, bias):\n",
        "    \"\"\"\n",
        "    Compute the predicted labels for the input data.\n",
        "    Parameters:\n",
        "    - X: Features (input data) as a numpy array of shape (n_samples, n_features)\n",
        "    - weights: Updated weights after training\n",
        "    - bias: Updated bias after training\n",
        "    Returns:\n",
        "    - y_pred_all: The predicted labels for the input data\n",
        "    \"\"\"\n",
        "    predictions = np.dot(X, weights) + bias\n",
        "    # Step function: returns 1 if predictions >= 0 else 0\n",
        "    y_pred_all = np.where(predictions >= 0, 1, 0)\n",
        "    return y_pred_all\n"
      ]
    },
    {
      "cell_type": "markdown",
      "source": [
        "**Implement the Perceptron Learning Algorithm**"
      ],
      "metadata": {
        "id": "ErTIBNm_Ba_2"
      },
      "id": "ErTIBNm_Ba_2"
    },
    {
      "cell_type": "code",
      "source": [
        "def train_perceptron(X, y, weights, bias, learning_rate=0.1, epochs=100):\n",
        "    \"\"\"\n",
        "    Train the perceptron using the Perceptron Learning Algorithm.\n",
        "    Parameters:\n",
        "    - X: Features (input data) as a numpy array of shape (n_samples, n_features)\n",
        "    - y: Labels (true output) as a numpy array of shape (n_samples,)\n",
        "    - weights: Initial weights as a numpy array of shape (n_features,)\n",
        "    - bias: Initial bias value (scalar)\n",
        "    - learning_rate: Learning rate for weight updates (default is 0.1)\n",
        "    - epochs: Number of iterations to train the model (default is 100)\n",
        "    Returns:\n",
        "    - weights: Updated weights after training\n",
        "    - bias: Updated bias after training\n",
        "    - accuracy: Total correct predictions.\n",
        "    \"\"\"\n",
        "    for epoch in range(epochs):\n",
        "        for i in range(len(X)):\n",
        "            output = np.dot(X[i], weights) + bias\n",
        "            prediction = 1 if output >= 0 else 0\n",
        "\n",
        "            # Update weights and bias if prediction is incorrect\n",
        "            if prediction != y[i]:\n",
        "                weights += learning_rate * (y[i] - prediction) * X[i]\n",
        "                bias += learning_rate * (y[i] - prediction)\n",
        "\n",
        "    # Calculate accuracy\n",
        "    y_pred = decision_function(X, weights, bias)\n",
        "    accuracy = np.mean(y_pred == y)\n",
        "\n",
        "    return weights, bias, accuracy\n"
      ],
      "metadata": {
        "id": "4YcpK4FgBNOq"
      },
      "id": "4YcpK4FgBNOq",
      "execution_count": 22,
      "outputs": []
    },
    {
      "cell_type": "markdown",
      "source": [
        "**Visualizing misclassified image**\n"
      ],
      "metadata": {
        "id": "H_3N6cq1BiXL"
      },
      "id": "H_3N6cq1BiXL"
    },
    {
      "cell_type": "code",
      "source": [
        "import matplotlib.pyplot as plt\n",
        "\n",
        "# Get predictions for all data points\n",
        "y_pred = decision_function(X, weights, bias)\n",
        "\n",
        "# Calculate final accuracy\n",
        "final_accuracy = np.mean(y_pred == y)\n",
        "print(f\"Final Accuracy: {final_accuracy:.4f}\")\n",
        "\n",
        "# Visualize Misclassified Images\n",
        "misclassified_idx = np.where(y_pred != y)[0]\n",
        "if len(misclassified_idx) > 0:\n",
        "    fig, axes = plt.subplots(2, 5, figsize=(10, 5))\n",
        "    for ax, idx in zip(axes.flat, misclassified_idx[:10]):  # Show 10 misclassified images\n",
        "        ax.imshow(X[idx].reshape(28, 28), cmap=\"gray\")\n",
        "        ax.set_title(f\"Pred: {y_pred[idx]}, True: {y[idx]}\")\n",
        "        ax.axis(\"off\")\n",
        "    plt.suptitle(\"Misclassified Images\")\n",
        "    plt.show()\n",
        "else:\n",
        "    print(\"All images were correctly classified!\")\n"
      ],
      "metadata": {
        "colab": {
          "base_uri": "https://localhost:8080/",
          "height": 400
        },
        "id": "74IHMuFSBddr",
        "outputId": "bf7ee929-4d64-4a4f-96d2-c798abdf9c87"
      },
      "id": "74IHMuFSBddr",
      "execution_count": 23,
      "outputs": [
        {
          "output_type": "stream",
          "name": "stdout",
          "text": [
            "Final Accuracy: 0.4586\n"
          ]
        },
        {
          "output_type": "display_data",
          "data": {
            "text/plain": [
              "<Figure size 1000x500 with 10 Axes>"
            ],
            "image/png": "[encoded data removed]"
          },
          "metadata": {}
        }
      ]
    }
  ],
  "metadata": {
    "kernelspec": {
      "display_name": "Python 3 (ipykernel)",
      "language": "python",
      "name": "python3"
    },
    "language_info": {
      "codemirror_mode": {
        "name": "ipython",
        "version": 3
      },
      "file_extension": ".py",
      "mimetype": "text/x-python",
      "name": "python",
      "nbconvert_exporter": "python",
      "pygments_lexer": "ipython3",
      "version": "3.9.19"
    },
    "colab": {
      "provenance": []
    }
  },
  "nbformat": 4,
  "nbformat_minor": 5
}